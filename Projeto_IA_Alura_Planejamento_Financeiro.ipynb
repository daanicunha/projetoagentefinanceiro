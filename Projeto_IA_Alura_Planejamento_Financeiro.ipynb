{
  "nbformat": 4,
  "nbformat_minor": 0,
  "metadata": {
    "colab": {
      "provenance": [],
      "authorship_tag": "ABX9TyObkHy2koMXFMLhyFc7iUuD",
      "include_colab_link": true
    },
    "kernelspec": {
      "name": "python3",
      "display_name": "Python 3"
    },
    "language_info": {
      "name": "python"
    }
  },
  "cells": [
    {
      "cell_type": "markdown",
      "metadata": {
        "id": "view-in-github",
        "colab_type": "text"
      },
      "source": [
        "<a href=\"https://colab.research.google.com/github/daanicunha/projetoagentefinanceiro/blob/main/Projeto_IA_Alura_Planejamento_Financeiro.ipynb\" target=\"_parent\"><img src=\"https://colab.research.google.com/assets/colab-badge.svg\" alt=\"Open In Colab\"/></a>"
      ]
    },
    {
      "cell_type": "code",
      "execution_count": 2,
      "metadata": {
        "id": "OmExK508hKyf"
      },
      "outputs": [],
      "source": [
        "%pip -q install google-genai"
      ]
    },
    {
      "cell_type": "code",
      "source": [
        "# Configura a API Key do Google Gemini\n",
        "\n",
        "import os\n",
        "from google.colab import userdata\n",
        "\n",
        "os.environ[\"GOOGLE_API_KEY\"] = userdata.get('GOOGLE_API_KEY')"
      ],
      "metadata": {
        "id": "TdTw7AhzN5vV"
      },
      "execution_count": 3,
      "outputs": []
    },
    {
      "cell_type": "code",
      "source": [
        "# Configura o cliente da SDK do Gemini\n",
        "\n",
        "from google import genai\n",
        "\n",
        "client = genai.Client()\n",
        "\n",
        "MODEL_ID = \"gemini-2.0-flash\""
      ],
      "metadata": {
        "id": "KGMKxK0tN8lW"
      },
      "execution_count": 4,
      "outputs": []
    },
    {
      "cell_type": "code",
      "source": [
        "from IPython.display import HTML, Markdown"
      ],
      "metadata": {
        "id": "8Iwvy68qOCbp"
      },
      "execution_count": 5,
      "outputs": []
    },
    {
      "cell_type": "code",
      "source": [
        "# Instalar Framework ADK de agentes do Google ################################################\n",
        "%pip -q install google-adk"
      ],
      "metadata": {
        "colab": {
          "base_uri": "https://localhost:8080/"
        },
        "collapsed": true,
        "id": "KbAzDathOEoD",
        "outputId": "daf25938-eeae-43b1-dd07-3a984372a90b"
      },
      "execution_count": 6,
      "outputs": [
        {
          "output_type": "stream",
          "name": "stdout",
          "text": [
            "\u001b[?25l   \u001b[90m━━━━━━━━━━━━━━━━━━━━━━━━━━━━━━━━━━━━━━━━\u001b[0m \u001b[32m0.0/1.2 MB\u001b[0m \u001b[31m?\u001b[0m eta \u001b[36m-:--:--\u001b[0m\r\u001b[2K   \u001b[91m━━━━━━━━━━━━━━━━━━━━\u001b[0m\u001b[91m╸\u001b[0m\u001b[90m━━━━━━━━━━━━━━━━━━━\u001b[0m \u001b[32m0.6/1.2 MB\u001b[0m \u001b[31m18.6 MB/s\u001b[0m eta \u001b[36m0:00:01\u001b[0m\r\u001b[2K   \u001b[90m━━━━━━━━━━━━━━━━━━━━━━━━━━━━━━━━━━━━━━━━\u001b[0m \u001b[32m1.2/1.2 MB\u001b[0m \u001b[31m18.6 MB/s\u001b[0m eta \u001b[36m0:00:00\u001b[0m\n",
            "\u001b[2K   \u001b[90m━━━━━━━━━━━━━━━━━━━━━━━━━━━━━━━━━━━━━━━━\u001b[0m \u001b[32m232.1/232.1 kB\u001b[0m \u001b[31m12.7 MB/s\u001b[0m eta \u001b[36m0:00:00\u001b[0m\n",
            "\u001b[2K   \u001b[90m━━━━━━━━━━━━━━━━━━━━━━━━━━━━━━━━━━━━━━━━\u001b[0m \u001b[32m95.2/95.2 kB\u001b[0m \u001b[31m4.4 MB/s\u001b[0m eta \u001b[36m0:00:00\u001b[0m\n",
            "\u001b[2K   \u001b[90m━━━━━━━━━━━━━━━━━━━━━━━━━━━━━━━━━━━━━━━━\u001b[0m \u001b[32m217.1/217.1 kB\u001b[0m \u001b[31m8.9 MB/s\u001b[0m eta \u001b[36m0:00:00\u001b[0m\n",
            "\u001b[2K   \u001b[90m━━━━━━━━━━━━━━━━━━━━━━━━━━━━━━━━━━━━━━━━\u001b[0m \u001b[32m334.1/334.1 kB\u001b[0m \u001b[31m14.5 MB/s\u001b[0m eta \u001b[36m0:00:00\u001b[0m\n",
            "\u001b[2K   \u001b[90m━━━━━━━━━━━━━━━━━━━━━━━━━━━━━━━━━━━━━━━━\u001b[0m \u001b[32m125.1/125.1 kB\u001b[0m \u001b[31m7.8 MB/s\u001b[0m eta \u001b[36m0:00:00\u001b[0m\n",
            "\u001b[2K   \u001b[90m━━━━━━━━━━━━━━━━━━━━━━━━━━━━━━━━━━━━━━━━\u001b[0m \u001b[32m65.8/65.8 kB\u001b[0m \u001b[31m3.5 MB/s\u001b[0m eta \u001b[36m0:00:00\u001b[0m\n",
            "\u001b[2K   \u001b[90m━━━━━━━━━━━━━━━━━━━━━━━━━━━━━━━━━━━━━━━━\u001b[0m \u001b[32m119.0/119.0 kB\u001b[0m \u001b[31m6.7 MB/s\u001b[0m eta \u001b[36m0:00:00\u001b[0m\n",
            "\u001b[2K   \u001b[90m━━━━━━━━━━━━━━━━━━━━━━━━━━━━━━━━━━━━━━━━\u001b[0m \u001b[32m194.9/194.9 kB\u001b[0m \u001b[31m11.3 MB/s\u001b[0m eta \u001b[36m0:00:00\u001b[0m\n",
            "\u001b[2K   \u001b[90m━━━━━━━━━━━━━━━━━━━━━━━━━━━━━━━━━━━━━━━━\u001b[0m \u001b[32m62.5/62.5 kB\u001b[0m \u001b[31m3.6 MB/s\u001b[0m eta \u001b[36m0:00:00\u001b[0m\n",
            "\u001b[2K   \u001b[90m━━━━━━━━━━━━━━━━━━━━━━━━━━━━━━━━━━━━━━━━\u001b[0m \u001b[32m103.3/103.3 kB\u001b[0m \u001b[31m6.0 MB/s\u001b[0m eta \u001b[36m0:00:00\u001b[0m\n",
            "\u001b[2K   \u001b[90m━━━━━━━━━━━━━━━━━━━━━━━━━━━━━━━━━━━━━━━━\u001b[0m \u001b[32m44.4/44.4 kB\u001b[0m \u001b[31m2.8 MB/s\u001b[0m eta \u001b[36m0:00:00\u001b[0m\n",
            "\u001b[2K   \u001b[90m━━━━━━━━━━━━━━━━━━━━━━━━━━━━━━━━━━━━━━━━\u001b[0m \u001b[32m72.0/72.0 kB\u001b[0m \u001b[31m4.5 MB/s\u001b[0m eta \u001b[36m0:00:00\u001b[0m\n",
            "\u001b[?25h"
          ]
        }
      ]
    },
    {
      "cell_type": "code",
      "source": [
        "from google.adk.agents import Agent\n",
        "from google.adk.runners import Runner\n",
        "from google.adk.sessions import InMemorySessionService\n",
        "from google.adk.tools import google_search\n",
        "from google.genai import types  # Para criar conteúdos (Content e Part)\n",
        "from datetime import date\n",
        "import textwrap # Para formatar melhor a saída de texto\n",
        "from IPython.display import display, Markdown # Para exibir texto formatado no Colab\n",
        "import requests # Para fazer requisições HTTP\n",
        "import warnings\n",
        "\n",
        "warnings.filterwarnings(\"ignore\")"
      ],
      "metadata": {
        "id": "pu-cCMlDOKRR"
      },
      "execution_count": 7,
      "outputs": []
    },
    {
      "cell_type": "code",
      "source": [
        "# Função auxiliar que envia uma mensagem para um agente via Runner e retorna a resposta final\n",
        "def call_agent(agent: Agent, message_text: str) -> str:\n",
        "    # Cria um serviço de sessão em memória\n",
        "    session_service = InMemorySessionService()\n",
        "    # Cria uma nova sessão (você pode personalizar os IDs conforme necessário)\n",
        "    session = session_service.create_session(app_name=agent.name, user_id=\"user1\", session_id=\"session1\")\n",
        "    # Cria um Runner para o agente\n",
        "    runner = Runner(agent=agent, app_name=agent.name, session_service=session_service)\n",
        "    # Cria o conteúdo da mensagem de entrada\n",
        "    content = types.Content(role=\"user\", parts=[types.Part(text=message_text)])\n",
        "\n",
        "    final_response = \"\"\n",
        "    # Itera assincronamente pelos eventos retornados durante a execução do agente\n",
        "    for event in runner.run(user_id=\"user1\", session_id=\"session1\", new_message=content):\n",
        "        if event.is_final_response():\n",
        "          for part in event.content.parts:\n",
        "            if part.text is not None:\n",
        "              final_response += part.text\n",
        "              final_response += \"\\n\"\n",
        "    return final_response"
      ],
      "metadata": {
        "id": "pvydhOZ2ORZb"
      },
      "execution_count": 8,
      "outputs": []
    },
    {
      "cell_type": "code",
      "source": [
        "# Função auxiliar para exibir texto formatado em Markdown no Colab\n",
        "def to_markdown(text):\n",
        "  text = text.replace('•', '  *')\n",
        "  return Markdown(textwrap.indent(text, '> ', predicate=lambda _: True))"
      ],
      "metadata": {
        "id": "z2-WPhgFOUm4"
      },
      "execution_count": 9,
      "outputs": []
    },
    {
      "cell_type": "code",
      "source": [
        "################################################\n",
        "# --- Agente 1: Classificador de Despesas --- #\n",
        "################################################\n",
        "def agente_classificador(salario_str, despesas_fixa_str, despesas_variavel_str):\n",
        "    classificador = Agent(\n",
        "        name=\"agente_cassificador\",\n",
        "        model=\"gemini-2.0-flash\",\n",
        "        instruction=\"\"\" Voce é um agente responsável por coletar o salario, assim como as despesas fixas e variaveis do usuário.\n",
        "        Voce precisa classificar as despesas recebidas pelo usuario.\n",
        "        Sua funcao é garantir que todas as informacoes necessarias foram recebidas do usuario para que assim vocë possa seguir com a classificação das despesas.\n",
        "        Utilize o google para pesquisar sobre a melhor forma de realizar a classificacao das despesas fixas e variaveis, e classifique-as corretamente.\n",
        "        Tambem identifique qual a porcentagem de gasto de cada categoria, com base no salario enviado pelo usuario.\n",
        "        \"\"\",\n",
        "        description=\"Agente responsavel por classificar as despesas do usuario\",\n",
        "        tools=[google_search]\n",
        "    )\n",
        "\n",
        "    entrada_agente_classificador = f\"Salario:{salario_str}\\nDespesas Fixas: {despesas_fixa_str}\\nDespesas Variaveis: {despesas_variavel_str}\"\n",
        "\n",
        "    # Executa o agente\n",
        "    analise_despesas = call_agent(classificador, entrada_agente_classificador)\n",
        "    return analise_despesas\n",
        "\n",
        "# Exemplo de uso do agente coleta de dados:\n",
        "# salario = [5000]\n",
        "# despesas_fixas_exemplo = [\"Aluguel: 1500\", \"Mensalidade Internet: 100\", \"Assinatura Streaming: 50\"]\n",
        "# despesas_variaveis_exemplo = [\"Conta de Luz: 200\", \"Conta de Água: 80\", \"Supermercado: 500\", \"Transporte: 150\"]\n",
        "# resultado_analise = agente_coletor_dados(salario, despesas_fixas_exemplo, despesas_variaveis_exemplo)\n",
        "# print(\"\\n📊 Análise de Despesas:\")\n",
        "# print(resultado_analise)"
      ],
      "metadata": {
        "id": "AxMP-6NGOXg1"
      },
      "execution_count": 10,
      "outputs": []
    },
    {
      "cell_type": "code",
      "source": [
        "###################################################\n",
        "# --- Agente 2: Analista Financeiro Otimizador --- #\n",
        "###################################################\n",
        "def agente_analista_financeiro(analise_despesas, salario_str):\n",
        "    analista_financeiro = Agent(\n",
        "        name=\"agente_analista_financeiro\",\n",
        "        model=\"gemini-2.0-flash\",\n",
        "        instruction=\"\"\"\n",
        "           Você é um agente analista financeiro experiente, objetivo e estratégico.\n",
        "           Sua missão é avaliar o orçamento mensal classificado pelo agente_classificador, que inclui o salário do usuário, a divisão das despesas fixas e variáveis e os percentuais de cada categoria em relação à renda.\n",
        "           Com base nessa análise, compare o total de gastos com o salário e determine se o usuário está gastando acima, abaixo ou dentro do seu orçamento.\n",
        "           Caso o usuário esteja gastando mais do que ganha, aponte as categorias com maior impacto financeiro e sugira formas práticas e personalizadas de reduzir esses gastos.\n",
        "           Se o usuário estiver gastando menos do que ganha, proponha um plano simples e eficaz de investimento inicial, levando em conta perfis de risco moderado a conservador para iniciantes.\n",
        "           Utilize pesquisas atualizadas no Google para embasar suas sugestões, tanto de economia quanto de investimento, priorizando fontes confiáveis como sites de educação financeira,\n",
        "           corretoras reconhecidas e simuladores gratuitos.\n",
        "            \"\"\",\n",
        "        description=\"Agente que analisa a classificação do orçamento e sugere otimizações financeiras.\",\n",
        "        tools=[google_search]\n",
        "    )\n",
        "\n",
        "    entrada_agente_analista = f\"\"\"\n",
        "    Salário: {salario_str}\n",
        "    Classificacao e analise das despesas:\n",
        "    {analise_despesas}\n",
        "    \"\"\"\n",
        "\n",
        "    # Executa o agente\n",
        "    sugestoes_otimizacao = call_agent(analista_financeiro, entrada_agente_analista)\n",
        "    return sugestoes_otimizacao\n",
        "\n",
        "# Exemplo de uso do agente analista financeiro:\n",
        "# Assumindo que 'resultado_classificacao' é a saída do agente_classificador e 'salario_usuario' é o salário informado pelo usuário.\n",
        "# resultado_classificacao_exemplo = \"\"\"\n",
        "# Despesas Fixas:\n",
        "#   - Aluguel: 1500 (30% do salário)\n",
        "#   - Mensalidade Internet: 100 (2% do salário)\n",
        "#   - Assinatura Streaming: 50 (1% do salário)\n",
        "# Total Despesas Fixas: 1650 (33% do salário)\n",
        "#\n",
        "# Despesas Variáveis:\n",
        "#   - Conta de Luz: 200 (4% do salário)\n",
        "#   - Conta de Água: 80 (1.6% do salário)\n",
        "#   - Supermercado: 500 (10% do salário)\n",
        "#   - Transporte: 150 (3% do salário)\n",
        "# Total Despesas Variáveis: 930 (18.6% do salário)\n",
        "#\n",
        "# Total de Despesas: 2580 (51.6% do salário)\n",
        "# Saldo Disponível: 2420 (48.4% do salário)\n",
        "# \"\"\"\n",
        "# salario_usuario_exemplo = 5000\n",
        "#\n",
        "# sugestoes = agente_analista_financeiro(resultado_classificacao_exemplo, salario_usuario_exemplo)\n",
        "# print(\"\\n💰 Sugestões de Otimização Financeira:\")\n",
        "# print(sugestoes)"
      ],
      "metadata": {
        "id": "ohKcv0u-Oa5f"
      },
      "execution_count": 22,
      "outputs": []
    },
    {
      "cell_type": "code",
      "source": [
        "#################################################\n",
        "# --- Agente 3: Agente de Lazer e Otimização --- #\n",
        "#################################################\n",
        "\n",
        "def agente_lazer_otimizacao(cep_usuario, sugestoes_otimizacao):\n",
        "    agente_lazer = Agent(\n",
        "        name=\"agente_lazer_otimizacao\",\n",
        "        model=\"gemini-2.0-flash\",\n",
        "        instruction=f\"\"\"\n",
        "            Você é um Agente especializado em lazer e otimização de gastos, focado em encontrar opções de lazer próximas ao CEP {cep_usuario} do usuário, considerando {sugestoes_otimizacao}.\n",
        "            Sua missão é pesquisar no Google Maps por lugares de lazer (como parques, cinemas, shoppings, restaurantes, bares, museus, etc.) na região do CEP fornecido.\n",
        "            Após a pesquisa, identifique os cinco lugares mais bem avaliados.\n",
        "            Para esses cinco lugares, tente encontrar informações sobre a média de preço de entrada, ingressos ou consumo. Se a média de preço não for facilmente acessível, mencione que essa informação não foi encontrada.\n",
        "            Apresente os cinco lugares com maior avaliação, sua categoria (ex: parque, cinema), a média de preço (se encontrada) e a avaliação do Google Maps.\n",
        "            Seu output deve ser claro, organizado por tópicos e direto ao ponto, utilizando pesquisas atualizadas no Google Maps e Google Search para obter as informações mais precisas.\n",
        "            Considere o saldo disponível do usuário para sugerir opções que se encaixem no orçamento, mesmo que a média de preço não esteja disponível.\n",
        "            \"\"\",\n",
        "        description=\"Agente que pesquisa opções de lazer próximas ao CEP do usuário e apresenta a média de preço dos mais bem avaliados.\",\n",
        "        tools=[google_search]\n",
        "    )\n",
        "\n",
        "    entrada_agente_lazer = f\"Pesquisar lugares de lazer próximos ao CEP {cep_usuario} com base no saldo disponível de {sugestoes_otimizacao}.\"\n",
        "\n",
        "    # Executa o agente\n",
        "    sugestoes_lazer = call_agent(agente_lazer, entrada_agente_lazer)\n",
        "    return sugestoes_lazer\n",
        "\n",
        "# Exemplo de uso do agente de lazer e otimização:\n",
        "# Assumindo que 'cep_usuario_exemplo' é o CEP informado pelo usuário e 'saldo_disponivel_exemplo' é o saldo calculado.\n",
        "# cep_usuario_exemplo = \"01001-000\"  # Exemplo de CEP\n",
        "# saldo_disponivel_exemplo = 2420  # Exemplo de saldo disponível\n",
        "\n",
        "# sugestoes = agente_lazer_otimizacao(cep_usuario_exemplo, saldo_disponivel_exemplo)\n",
        "# print(\"\\n🎉 Sugestões de Lazer:\")\n",
        "# print(sugestoes)"
      ],
      "metadata": {
        "id": "6rdN6ScPOdvr"
      },
      "execution_count": 23,
      "outputs": []
    },
    {
      "cell_type": "code",
      "source": [
        "#################################################\n",
        "# --- Agente 4: Agente de Planejamento Financeiro --- #\n",
        "#################################################\n",
        "def agente_planejamento_financeiro(sugestoes_otimizacao, sugestoes_lazer):\n",
        "    agente_planejador = Agent(\n",
        "        name=\"agente_planejamento_financeiro\",\n",
        "        model=\"gemini-2.0-flash\",\n",
        "        instruction=\"\"\"\n",
        "            Você é um Agente de Planejamento Financeiro, sua tarefa é criar um plano financeiro mensal prático e eficaz para o usuário, baseado nas sugestões de otimização de orçamento\n",
        "            e na classificação das despesas fornecidas pelo Agente Analista Financeiro.\n",
        "            Seu plano deve ser estruturado da seguinte forma:\n",
        "            1. **Resumo da Análise:** Apresente um resumo conciso da análise financeira e das sugestões de otimização recebidas pelo agente analista financeiro.\n",
        "            2. **Estratégias de Monitoramento:** Ofereça sugestões diretas e práticas sobre como o usuário pode monitorar seus gastos ao longo do mês. Forneca um exemplo de como fazer isso, utilize dados fornecidos pelo analista financeiro.\n",
        "            3. **Metas de Gastos Sugeridas:** Sugira metas de gastos por categoria, deixando claro que são apenas recomendações. Forneca um exemplo de como fazer isso, utilize dados fornecidos pelo analista financeiro.\n",
        "            4. **Recursos Adicionais:** Indique fontes confiáveis (sites, videoaulas) para aprender mais sobre planejamento financeiro.\n",
        "          O plano deve ser organizado, claro, objetivo e fácil de aplicar. Utilize pesquisas atualizadas para embasar suas sugestões e recursos.\n",
        "            \"\"\",\n",
        "        description=\"Agente que cria um plano financeiro mensal baseado nas sugestões de otimização.\",\n",
        "        tools=[google_search]\n",
        "    )\n",
        "\n",
        "    entrada_agente_planejador = f\"\"\"\n",
        "    Sugestões de Otimização Financeira:\n",
        "    {sugestoes_otimizacao}\n",
        "    Sugestao de lazer:\n",
        "    {sugestoes_lazer}\n",
        "\n",
        "    \"\"\"\n",
        "\n",
        "    # Executa o agente\n",
        "    plano_financeiro = call_agent(agente_planejador, entrada_agente_planejador)\n",
        "    return plano_financeiro\n",
        "\n",
        "# Exemplo de uso do agente de planejamento financeiro:\n",
        "# Assumindo que 'sugestoes_otimizacao_exemplo' é a saída do agente_analista_financeiro e 'salario_usuario_exemplo' é o salário informado pelo usuário.\n",
        "# sugestoes_otimizacao_exemplo = \"\"\"\n",
        "# Ótimas notícias! Sua análise financeira mostra um bom saldo disponível. Aqui estão algumas sugestões para otimizar ainda mais seus gastos:\n",
        "# - Transporte: Considere alternativas para reduzir custos, como caronas ou transporte público em alguns dias.\n",
        "# - Supermercado: Faça uma lista antes de ir ao supermercado para evitar compras por impulso e pesquise por promoções.\n",
        "# \"\"\"\n",
        "# salario_usuario_exemplo = 5000\n",
        "\n",
        "# plano = agente_planejamento_financeiro(sugestoes_otimizacao_exemplo, salario_usuario_exemplo)\n",
        "# print(\"\\n🗓️ Plano Financeiro para o Próximo Mês:\")\n",
        "# print(plano)"
      ],
      "metadata": {
        "id": "_guJ-7fjQtsk"
      },
      "execution_count": 42,
      "outputs": []
    },
    {
      "cell_type": "code",
      "source": [
        "data_de_hoje = date.today().strftime(\"%d/%m/%Y\")\n",
        "\n",
        "print(\"\"\"💰 Olá, hoje vamos te ajudar no seu planejamento mensal para o próximo mes.\\n\n",
        "Queremos que vocë saiba gerenciar o seu dinheiro da melhor forma e aproveite para desfrutá-lo de forma consciente e responsavel❗💲\\n\"\"\")\n",
        "\n",
        "# --- Obter Informacoes Financeira do Usuário ---\n",
        "# Solicitar cada informação separadamente\n",
        "salario_str = input(\"▶️ Por favor, nos diga o seu salario mensal: \\n\")\n",
        "despesas_fixa_str = input(\"▶️ Agora, liste suas despesas fixas, separadas por vírgula (Ex: Aluguel: 1500, Internet: 100): \\n\")\n",
        "despesas_variavel_str = input(\"▶️ Liste suas despesas variaveis, separadas por vírgula (Ex: Luz: 200, Agua: 80, Supermercado: 500): \\n\")\n",
        "cep_usuario = input(\"▶️ Por fim, nos diga o seu CEP: \\n\")\n",
        "\n",
        "# Converter salário para um formato adequado (por exemplo, float ou integer)\n",
        "# Você pode adicionar tratamento de erro aqui para garantir que a entrada seja um número\n",
        "salario = float(salario_str) # Converter para float\n",
        "\n",
        "# Dividir as strings de despesas em listas\n",
        "# Remover espaços em branco de cada item\n",
        "despesas_fixa = [item.strip() for item in despesas_fixa_str.split(',')]\n",
        "despesas_variavel = [item.strip() for item in despesas_variavel_str.split(',')]\n",
        "\n",
        "\n",
        "# Inserir lógica do sistema de agentes ################################################\n",
        "# A variável 'topico' não está definida no código fornecido.\n",
        "# Parece que sobrou de outro snippet de código.\n",
        "# Devemos chamar os agentes com os dados financeiros coletados.\n",
        "\n",
        "# Chamar os agentes sequencialmente, passando a saída do agente anterior para o próximo\n",
        "analise_despesas = agente_classificador(salario_str, despesas_fixa_str, despesas_variavel_str)\n",
        "sugestoes_otimizacao = agente_analista_financeiro(analise_despesas, salario_str)\n",
        "# Adicionar a chamada para o agente_lazer_otimizacao to generate sugestoes_lazer\n",
        "sugestoes_lazer = agente_lazer_otimizacao(cep_usuario, sugestoes_otimizacao)\n",
        "plano_financeiro = agente_planejamento_financeiro(sugestoes_otimizacao, sugestoes_lazer)\n",
        "\n",
        "# Exibir o plano financeiro final\n",
        "print(\"\\n🗓️ Plano Financeiro para o Próximo Mês:\")\n",
        "\n",
        "# Organizar resposta\n",
        "from IPython.display import Markdown\n",
        "\n",
        "# Retorno para o usuario\n",
        "display(to_markdown(plano_financeiro + \"\\n\\n🎉 Sugestões de Lazer:\\n\" + sugestoes_lazer))"
      ],
      "metadata": {
        "colab": {
          "base_uri": "https://localhost:8080/",
          "height": 1000
        },
        "id": "dEWr3FAbOkN6",
        "outputId": "f34b6df4-5b79-488e-d949-3ea414fa7635"
      },
      "execution_count": 43,
      "outputs": [
        {
          "output_type": "stream",
          "name": "stdout",
          "text": [
            "💰 Olá, hoje vamos te ajudar no seu planejamento mensal para o próximo mes.\n",
            " \n",
            "Queremos que vocë saiba gerenciar o seu dinheiro da melhor forma e aproveite para desfrutá-lo de forma consciente e responsavel❗💲\n",
            "\n",
            "▶️ Por favor, nos diga o seu salario mensal: \n",
            "5000\n",
            "▶️ Agora, liste suas despesas fixas, separadas por vírgula (Ex: Aluguel: 1500, Internet: 100): \n",
            "Aluguel: 1500, Internet: 100\n",
            "▶️ Liste suas despesas variaveis, separadas por vírgula (Ex: Luz: 200, Agua: 80, Supermercado: 500): \n",
            "Luz: 200, Agua: 80, Supermercado: 500\n",
            "▶️ Por fim, nos diga o seu CEP: \n",
            "04733200\n",
            "\n",
            "🗓️ Plano Financeiro para o Próximo Mês:\n"
          ]
        },
        {
          "output_type": "display_data",
          "data": {
            "text/plain": [
              "<IPython.core.display.Markdown object>"
            ],
            "text/markdown": "> Com prazer! Aqui está um plano financeiro mensal prático e eficaz, baseado nas suas sugestões de otimização de orçamento:\n> \n> **1. Resumo da Análise:**\n> \n> Com base nas informações fornecidas, você possui uma situação financeira confortável, com uma sobra mensal de R$2620, representando 52.4% do seu salário de R$5000. Isso indica uma excelente oportunidade para começar a investir e garantir um futuro financeiro mais seguro. As sugestões de investimento inicial recomendam opções conservadoras a moderadas, como Tesouro Direto, Fundos de Renda Fixa, CDBs, LCIs e LCAs, visando a segurança e a diversificação dos seus investimentos.\n> \n> **2. Estratégias de Monitoramento:**\n> \n> Para garantir que você continue no caminho certo, é fundamental monitorar seus gastos ao longo do mês. Uma forma simples e eficaz de fazer isso é utilizando uma planilha ou aplicativo de controle financeiro.\n> \n> *   **Exemplo prático:**\n> \n>     *   **Receita Mensal:** R$5000\n>     *   **Gastos:**\n>         *   Moradia: R$0 (já pago)\n>         *   Alimentação: R$500\n>         *   Transporte: R$200\n>         *   Lazer: R$300\n>         *   Outros: R$380\n>         *   **Total de Gastos:** R$1380\n>     *   **Investimentos:** R$1000\n>     *   **Sobra:** R$2620\n> \n> *   **Como monitorar:**\n> \n>     1.  **Registre todos os gastos:** Anote cada despesa, por menor que seja.\n>     2.  **Categorize os gastos:** Divida os gastos em categorias (alimentação, transporte, lazer, etc.).\n>     3.  **Compare com o orçamento:** Verifique se os gastos estão dentro das metas estabelecidas.\n>     4.  **Analise os resultados:** Identifique áreas onde é possível economizar.\n>     5.  **Ajuste o orçamento:** Faça ajustes no orçamento conforme necessário.\n> \n> **3. Metas de Gastos Sugeridas:**\n> \n> As metas de gastos sugeridas são apenas recomendações, e você pode ajustá-las de acordo com suas prioridades e necessidades.\n> \n> *   **Exemplo:**\n> \n>     *   **Alimentação:** Meta de R$700 por mês.\n>     *   **Transporte:** Meta de R$300 por mês.\n>     *   **Lazer:** Meta de R$500 por mês (incluindo as opções de lazer perto de seu CEP).\n>     *   **Outros:** Meta de R$380 por mês.\n> \n> *   **Como definir suas metas:**\n> \n>     1.  **Analise seus gastos:** Veja onde você está gastando mais dinheiro.\n>     2.  **Defina prioridades:** Decida quais são as áreas mais importantes para você.\n>     3.  **Estabeleça limites:** Defina limites de gastos para cada categoria.\n>     4.  **Seja realista:** Defina metas que você possa alcançar.\n> \n> **4. Recursos Adicionais:**\n> \n> Para aprender mais sobre planejamento financeiro e investimentos, você pode consultar as seguintes fontes confiáveis:\n> \n> *   **Sites:**\n>     *   Tesouro Direto ([https://www.tesourodireto.com.br/](https://www.tesourodireto.com.br/)): Informações sobre títulos públicos.\n>     *   Calculadora do Cidadão do Banco Central ([https://www.bcb.gov.br/](https://www.bcb.gov.br/)): Ferramentas para calcular a rentabilidade de investimentos.\n> *   **Vídeos:**\n>     *   Vídeos do canal Me Poupe! no YouTube: Dicas práticas sobre finanças pessoais e investimentos.\n>     *   Vídeos do canal Nath Finanças no YouTube: Conteúdo educativo sobre finanças para iniciantes.\n> *   **Livros:**\n>     *   \"O Pai Rico, Pai Pobre\" de Robert Kiyosaki: Abordagem sobre mentalidade financeira e investimentos.\n>     *   \"Dinheiro não cai do céu\" de Álvaro Modernell: Guia prático de educação financeira para jovens.\n> \n> Lembre-se que este é apenas um plano inicial, e você pode adaptá-lo de acordo com suas necessidades e objetivos financeiros. Ao seguir estas dicas e dedicar um tempo para aprender mais sobre finanças pessoais, você estará no caminho certo para construir um futuro financeiro mais seguro e próspero.\n> \n> \n> \n> 🎉 Sugestões de Lazer:\n> Com certeza! Com uma sobra mensal de R$2620, você tem flexibilidade para escolher opções de lazer que se encaixem no seu orçamento e ainda investir. Veja algumas sugestões de lugares bem avaliados próximos ao CEP 04733-200, com foco em custo-benefício:\n> \n> \n> Com base nas pesquisas, aqui estão cinco opções de lazer bem avaliadas próximas ao CEP 04733-200, considerando diferentes categorias e faixas de preço:\n> \n> 1.  **Shopping Mais Shopping:** Opção de compras e lazer com diversas lojas e restaurantes. Avaliação geralmente positiva, mas a média de preços pode variar dependendo das lojas e restaurantes escolhidos.\n> 2.  **Boa Vista Shopping:** Similar ao Shopping Mais Shopping, oferece diversas opções de lojas, alimentação e entretenimento. A média de preços também varia conforme as escolhas de consumo.\n> 3.  **Parque Severo Gomes:** Uma área verde para relaxar, caminhar e aproveitar a natureza. Geralmente gratuito, sendo uma opção econômica e bem avaliada para atividades ao ar livre.\n> 4.  **Lanches Los Bar:** Localizado na Avenida Adolfo Pinheiro, oferece lanches e petiscos. Não foi possível encontrar a média de preços, mas bares e lanchonetes costumam ter opções acessíveis.\n> 5.  **Opções de Restaurantes:** Explore restaurantes na Av. Adolfo Pinheiro, como o Terraço Jardins - Hotel Renaissance e Jardim da Vila. Os preços variam de €€€€ (mais caros) a opções mais acessíveis.\n> \n> Considerando seu orçamento, sugiro explorar o Parque Severo Gomes para uma opção gratuita e relaxante, ou experimentar os lanches e restaurantes na Av. Adolfo Pinheiro, que oferecem diversas faixas de preço. Os shoppings também são boas alternativas, mas é importante estar atento aos gastos com lojas e alimentação.\n> \n"
          },
          "metadata": {}
        }
      ]
    }
  ]
}